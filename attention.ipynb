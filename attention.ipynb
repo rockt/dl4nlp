{
 "cells": [
  {
   "cell_type": "code",
   "execution_count": 2,
   "metadata": {
    "hide_input": false,
    "slideshow": {
     "slide_type": "skip"
    }
   },
   "outputs": [
    {
     "data": {
      "text/html": [
       "<style>\n",
       ".red { color: #E41A1C; }\n",
       ".orange { color: #FF7F00 }\n",
       ".yellow { color: #FFC020 }         \n",
       ".green { color: #4DAF4A }                  \n",
       ".blue { color: #377EB8; }\n",
       ".purple { color: #984EA3 }       \n",
       "\n",
       "ctb_global_show div.ctb_hideshow.ctb_show {\n",
       "    display: inline;\n",
       "} \n",
       "     \n",
       "#for reveal         \n",
       ".aside .controls, .reveal .controls {\n",
       "    display: none !important;                            \n",
       "    width: 0px !important;\n",
       "    height: 0px !important;\n",
       "}\n",
       "    \n",
       ".rise-enabled .reveal .slide-number {\n",
       "    right: 25px;\n",
       "    bottom: 25px;                        \n",
       "    font-size: 200%;     \n",
       "    color: #377EB8;                        \n",
       "}         \n",
       "         \n",
       ".rise-enabled .reveal .progress span {\n",
       "    background: #377EB8;\n",
       "}     \n",
       "         \n",
       ".cite {\n",
       "    float: right;\n",
       "    color: #377EB8;    \n",
       "}         \n",
       "         \n",
       ".rendered_html table {\n",
       "    font-size: 100%;\n",
       "}         \n",
       "</style>"
      ],
      "text/plain": [
       "<IPython.core.display.HTML object>"
      ]
     },
     "metadata": {},
     "output_type": "display_data"
    },
    {
     "data": {
      "text/html": [
       "<!--\n",
       "div.tabContent {\n",
       "    padding: 0px;\n",
       "    background: #ffffff;     \n",
       "    border: 0px;                        \n",
       "}  \n",
       "         \n",
       ".left {\n",
       "    float: left;\n",
       "    width: 50%;\n",
       "    vertical-align: text-top;\n",
       "}\n",
       "\n",
       ".right {\n",
       "    margin-left: 50%;\n",
       "    vertical-align: text-top;                            \n",
       "}    \n",
       "         \n",
       ".veryright {\n",
       "    margin-left: 70%;\n",
       "    vertical-align: text-top;                            \n",
       "}          \n",
       "               \n",
       ".small {         \n",
       "    zoom: 0.9;\n",
       "    -ms-zoom: 0.9;\n",
       "    -webkit-zoom: 0.9;\n",
       "    -moz-transform:  scale(0.9,0.9);\n",
       "    -moz-transform-origin: left center;  \n",
       "}          \n",
       "         \n",
       ".verysmall {         \n",
       "    zoom: 0.75;\n",
       "    -ms-zoom: 0.75;\n",
       "    -webkit-zoom: 0.75;\n",
       "    -moz-transform:  scale(0.75,0.75);\n",
       "    -moz-transform-origin: left center;  \n",
       "}         \n",
       "   \n",
       "        \n",
       ".tiny {         \n",
       "    zoom: 0.6;\n",
       "    -ms-zoom: 0.6;\n",
       "    -webkit-zoom: 0.6;\n",
       "    -moz-transform:  scale(0.6,0.6);\n",
       "    -moz-transform-origin: left center;  \n",
       "}         \n",
       "         \n",
       "         \n",
       ".rendered_html blockquote {\n",
       "    border-left-width: 0px;\n",
       "    padding: 15px;\n",
       "    margin: 0px;    \n",
       "    width: 100%;                            \n",
       "}         \n",
       "         \n",
       ".rendered_html th {\n",
       "    padding: 0.5em;  \n",
       "    border: 0px;                            \n",
       "}         \n",
       "         \n",
       ".rendered_html td {\n",
       "    padding: 0.25em;\n",
       "    border: 0px;                                                        \n",
       "}        \n",
       "    \n",
       ".present .top {\n",
       "    position: fixed !important;\n",
       "    top: 0 !important;                                   \n",
       "}                  \n",
       "    \n",
       ".present .rendered_html * + p, .present .rendered_html p, .present .rendered_html * + br, .present .rendered_html br {\n",
       "    margin: 0.5em 0;                            \n",
       "}  \n",
       "         \n",
       ".present tr, .present td {\n",
       "    border: 0px;\n",
       "    padding: 0.35em;                            \n",
       "}      \n",
       "         \n",
       ".present th {\n",
       "    border: 1px;\n",
       "}\n",
       "         \n",
       "tbody {\n",
       "    font-size: 65%;                            \n",
       "}         \n",
       "         \n",
       "present .prompt {\n",
       "    min-width: 0px !important;\n",
       "    transition-duration: 0s !important;\n",
       "}     \n",
       "         \n",
       ".prompt {\n",
       "    min-width: 0px !important;\n",
       "    transition-duration: 0s !important;                            \n",
       "}         \n",
       "         \n",
       ".rise-enabled .cell li {\n",
       "    line-height: 135%;\n",
       "}\n",
       "         \n",
       ".reveal pre code {\n",
       "    font-size: 50%;\n",
       "    line-height: normal;\n",
       "}   \n",
       "-->"
      ],
      "text/plain": [
       "<IPython.core.display.HTML object>"
      ]
     },
     "metadata": {},
     "output_type": "display_data"
    },
    {
     "data": {
      "application/javascript": [
       "require(['base/js/utils'],\n",
       "function(utils) {\n",
       "   utils.load_extensions('calico-spell-check', 'calico-document-tools', 'calico-cell-tools');\n",
       "});"
      ],
      "text/plain": [
       "<IPython.core.display.Javascript object>"
      ]
     },
     "metadata": {},
     "output_type": "display_data"
    },
    {
     "data": {
      "text/latex": [
       "$$\n",
       "\n",
       "% Misc Math\n",
       "\\let\\union\\cup\n",
       "\\let\\dom\\mathcal\n",
       "\\let\\set\\dom \n",
       "\\newcommand\\ls[1]{\\verb~#1~}\n",
       "\\def\\R{\\mathbb{R}}\n",
       "\\def\\N{\\mathbb{N}}\n",
       "\\def\\E{\\mathbb{E}}\n",
       "\\def\\C{\\mathbb{C}}\n",
       "\\renewcommand\\vec[1]{{\\mathbf{#1}}}\n",
       "\\let\\mat\\mathbf\n",
       "\\let\\ten\\mathcal\n",
       "\\let\\infinity\\infty \n",
       "\\let\\grad\\nabla\n",
       "\\let\\mul\\odot\n",
       "\\newcommand\\onehot[1]{\\vec{1}_{#1}}\n",
       "\n",
       "% Optimization\n",
       "\\def\\loss{\\mathcal{L}}\n",
       "\\def\\params{{\\vec{\\theta}}}\n",
       "\\def\\globalloss{\\mathfrak{L}}\n",
       "\n",
       "% Neural Network Modules\n",
       "\\newcommand{\\module}[1]{\\verb~#1~}\n",
       "\\def\\ndot{\\module{dot}}\n",
       "\\def\\sigm{\\module{sigm}}\n",
       "\\def\\nlog{\\module{log}}\n",
       "\\def\\relu{\\module{ReLU}}\n",
       "\\def\\rnn{\\module{RNN}}\n",
       "\\def\\lstm{\\module{LSTM}}\n",
       "\\def\\cell{\\module{cell}}\n",
       "\\def\\cons{\\module{concat}}\n",
       "\\def\\split{\\module{split}}\n",
       "\\def\\mul{\\module{matmul}} % fixme: clash with component-wise mul\n",
       "\\let\\matmul\\mul\n",
       "\\def\\ntanh{\\module{tanh}}\n",
       "\\def\\nsoftmax{\\module{softmax}}\n",
       "\\def\\nunify{\\module{sim}}\n",
       "\n",
       "\n",
       "% Math operators\n",
       "\\DeclareMathOperator{\\softmax}{softmax}\n",
       "\\DeclareMathOperator*{\\argmax}{arg\\,max}\n",
       "\\DeclareMathOperator*{\\argmin}{arg\\,min}\n",
       "\\let\\sigmoid\\sigma\n",
       "\\DeclareMathOperator{\\unify}{unify}\n",
       "\\DeclareMathOperator{\\real}{real}\n",
       "\\DeclareMathOperator{\\imag}{imag}\n",
       "\\DeclareMathOperator{\\diag}{diag}\n",
       "\n",
       "\n",
       "\n",
       "\\require{color}\n",
       "\\definecolor{nice-red}{RGB}{228, 26, 28}\n",
       "\\definecolor{nice-orange}{RGB}{255, 127, 0}\n",
       "\\definecolor{nice-yellow}{RGB}{255, 192, 32}\n",
       "\\definecolor{nice-green}{RGB}{77, 175, 74}\n",
       "\\definecolor{nice-blue}{RGB}{55, 126, 184}\n",
       "\\definecolor{nice-purple}{RGB}{152, 78, 163}\n",
       "\n",
       "% TODOs\n",
       "\\def\\blah{\\bf\\color{red}???}\n",
       "\\def\\todo{\\bf\\color{red}TODO}\n",
       "\\def\\toref{\\bf\\color{nice-purple}TOREF}\n",
       "$$"
      ]
     },
     "metadata": {},
     "output_type": "display_data"
    }
   ],
   "source": [
    "%run \"preamble.ipynb\"\n",
    "%matplotlib inline\n",
    "import torch\n",
    "from torch.autograd import Variable\n",
    "from dl4nlp.util import *\n",
    "from dl4nlp.einsum import einsum\n",
    "from torch import nn\n",
    "import torch.nn.functional as F\n",
    "import numpy as np\n",
    "from torch.nn import Parameter\n",
    "from dl4nlp.tikz import *\n",
    "from dl4nlp.rnn import *\n",
    "import IPython.display\n",
    "IPython.display.display_latex(IPython.display.Latex(filename=\"tex/macros.tex\"))"
   ]
  },
  {
   "cell_type": "markdown",
   "metadata": {
    "slideshow": {
     "slide_type": "slide"
    }
   },
   "source": [
    "<center>\n",
    "<h1>Deep Learning for Natural Language Processing III</h1>\n",
    "<h2>Attention</h2>\n",
    "<br>\n",
    "Tim Rocktäschel<br>\n",
    "<a href=\"https://rockt.github.com\">rockt.github.com</a> <a href=\"mailto:tim.rocktaschel@cs.ox.ac.uk\">tim.rocktaschel@cs.ox.ac.uk</a> <a href=\"https://twitter.com/_rockt\">Twitter: @_rockt</a><br>\n",
    "<img src=\"./figures/oxford.svg\" width=30%><br>\n",
    "2nd Int'l Summer School on Data Science, Split, Croatia<br>\n",
    "27th September 2017<br>\n",
    "</center>"
   ]
  },
  {
   "cell_type": "markdown",
   "metadata": {
    "slideshow": {
     "slide_type": "slide"
    }
   },
   "source": [
    "# Why you should know about <span class=orange>einsum</span>\n",
    "- We often need to carry out computations on higher-order tensors $A$ and $B$ using the following steps\n",
    "  - **multiply** A with B (e.g. tensor contractions)\n",
    "  - **sum** resulting tensor along specific axes\n",
    "  - **transpose** the axes in a specific particular order\n",
    "- Even worse: we often have to **reshape** to matrices (flatten) and back to tensors\n",
    "- Need to remember API functions\n",
    "- <span class=green>einsum</span> to the rescue!"
   ]
  },
  {
   "cell_type": "markdown",
   "metadata": {
    "slideshow": {
     "slide_type": "slide"
    }
   },
   "source": [
    "# <span class=orange>einsum</span>\n",
    "- Assume we want to mutliply two matrices $\\mat{A}\\in\\R^{i\\times j}, \\mat{B}\\in\\R^{k\\times j}$ and transpose afterwards, resulting in a matrix $\\mat{C}\\in\\R^{k\\times i}$\n",
    "- Can be done with a single call of einsum\n",
    "## $${\\color{nice-green}\\mat{C}} = \\text{einsum}(\"{\\color{nice-red}ij},{\\color{nice-blue}kj}\\text{->}{\\color{nice-green}ki}\", {\\color{nice-red}\\mat{A}}, {\\color{nice-blue}\\mat{B}})$$\n",
    "- Based on Einstein notation\n",
    "$$\n",
    "\\mat{C}_{ki} := \\sum_i \\mat{A}_{ij} * \\mat{B}_{ki}\n",
    "$$\n",
    "- Advanced example with order-3 tensors $\\ten{A}\\in\\R^{a\\times i\\times j}, \\mat{B}\\in\\R^{a\\times j\\times c}$\n",
    "## $${\\color{nice-green}\\mat{C}} = \\text{einsum}(\"{\\color{nice-red}aij},{\\color{nice-blue}ajc}\\text{->}{\\color{nice-green}ic}\", {\\color{nice-red}\\ten{A}}, {\\color{nice-blue}\\ten{B}})$$\n",
    "$$\n",
    "\\mat{C}_{ic} := \\sum_a\\sum_j \\ten{A}_{aij} * \\ten{B}_{ajc}\n",
    "$$\n",
    "- Implemented in numpy and TensorFlow; coming to PyTorch soon\n"
   ]
  },
  {
   "cell_type": "markdown",
   "metadata": {
    "slideshow": {
     "slide_type": "slide"
    }
   },
   "source": [
    "# <span class=orange>einsum</span> Is All You Need"
   ]
  },
  {
   "cell_type": "code",
   "execution_count": 81,
   "metadata": {},
   "outputs": [
    {
     "data": {
      "text/plain": [
       "\n",
       " 0.7389  5.9002  0.1010  2.9141  2.3376 -1.0831 -1.3173\n",
       "-1.4770 -4.4565 -0.4014 -1.9999 -3.3633  3.6196  2.0762\n",
       " 0.7762 -3.7085 -2.1876 -6.4243  2.8365 -0.5194 -1.7013\n",
       "[torch.FloatTensor of size 3x7]"
      ]
     },
     "execution_count": 81,
     "metadata": {},
     "output_type": "execute_result"
    }
   ],
   "source": [
    "x = torch.randn(5); y = torch.randn(7)\n",
    "A = torch.randn(3, 5); B = torch.randn(2, 5)\n",
    "C = torch.randn(2, 3, 5); D = torch.randn(2, 5, 7)\n",
    "E = torch.randn(7, 9)\n",
    "\n",
    "# -- Vector\n",
    "einsum(\"i->\", x)                 # sum\n",
    "einsum(\"i,i->\", x, x)            # dot\n",
    "einsum(\"i,i->i\", x, x)           # vector element-wise mul\n",
    "einsum(\"i,j->ij\", x, y)          # outer\n",
    "# -- Matrix\n",
    "einsum(\"ij->ji\", A)              # transpose\n",
    "einsum(\"ij->j\", A)               # row sum\n",
    "einsum(\"ij->i\", A)               # col sum\n",
    "einsum(\"ij,ij->ij\", A, A)        # matrix element-wise mul\n",
    "einsum(\"ij,j->i\", A, x)          # matrix vector multiplication\n",
    "einsum(\"ij,kj->ik\", A, B)        # matrix multiplication\n",
    "einsum(\"ij,ab->ijab\", A, E)      # matrix outer product\n",
    "# -- Tensor\n",
    "einsum(\"aij,ajk->aik\", C, D)     # batch matrix multiplication\n",
    "einsum(\"ijk,jk->i\", C, A)        # tensor matrix contraction\n",
    "einsum(\"aij,jk->aik\", D, E)      # tensor matrix contraction\n",
    "einsum(\"aij,ajc->ic\", C, D)      # tensor tensor contraction"
   ]
  },
  {
   "cell_type": "markdown",
   "metadata": {
    "slideshow": {
     "slide_type": "slide"
    }
   },
   "source": [
    "# Attention\n",
    "- Bottleneck in RNNs: everything is squeezed through hidden state\n",
    "- Idea: learn to attend over previous outputs of an RNN\n",
    "<img src=\"./figures/3-attention/attention.svg\" width=60%/> \n",
    "- Given previous outputs (context) $\\mat{Y} = [\\vec{y}_1, \\vec{y}_2, \\ldots, \\vec{y}_N]$, hidden representation $\\vec{h}^*_t$ is calculated as follows:\n",
    "\\begin{align}\n",
    "  \\mat{M}_t &= \\tanh\\left(\\mat{W}^y\\mat{Y}+\\left(\\mat{W}^h\\vec{h}_t\\right)\\vec{1}^T\\right)&\\mat{M}_t&\\in\\R^{k \\times N}\\label{eq:att-rec}\\\\\n",
    "  \\vec{\\alpha}_t &= \\softmax\\left(\\vec{w}^T\\mat{M}_t\\right)&\\vec{\\alpha}_t&\\in\\R^{1\\times N}\\\\\n",
    "  \\vec{r}_t &= \\mat{Y}\\vec{\\alpha}^T_t &\\vec{r}_t&\\in\\R^k\\\\\n",
    "  \\vec{h}^*_t &= \\tanh(\\mat{W}^p\\vec{r}_t + \\mat{W}^x\\vec{h}_t) & \\vec{h}^*_t&\\in\\R^k\n",
    "\\end{align}\n",
    "\n",
    "\n",
    "<div class=cite> [Graves 2013, Bahdanau et al. 2015, Rocktäschel et al. 2016]</div>"
   ]
  },
  {
   "cell_type": "code",
   "execution_count": 52,
   "metadata": {
    "cell_style": "split",
    "slideshow": {
     "slide_type": "slide"
    }
   },
   "outputs": [],
   "source": [
    "I1 = Variable(torch.from_numpy(np.random.randint(0, vocab_size, [batch_size, seq_length])))\n",
    "X1 = emb(I)\n",
    "s0 = nn.init.normal(Parameter(torch.randn(batch_size, k_out)))\n",
    "Y, S = rnn(gru_cell, X1, s0)\n",
    "Y = torch.stack(Y, dim=1)\n",
    "\n",
    "ht = nn.init.normal(Parameter(torch.randn(batch_size, k_out)))\n",
    "rt = nn.init.normal(Parameter(torch.randn(batch_size, k_out)))\n",
    "Wy = nn.init.normal(Parameter(torch.randn(k_out, k_out)))\n",
    "Wh = nn.init.normal(Parameter(torch.randn(k_out, k_out)))\n",
    "Wp = nn.Linear(k_out, k_out)\n",
    "Wx = nn.Linear(k_out, k_out)\n",
    "w = nn.init.normal(Parameter(torch.randn(k_out)))\n",
    "\n",
    "def attention(Y, ht, rt):\n",
    "    # -- [batch_size x seq_length x k_out]\n",
    "    Y = einsum(\"ijk,ka->ija\", Y, Wy)\n",
    "    # -- [batch_size x seq_length x k_out]    \n",
    "    H = ht.unsqueeze(1).expand_as(Y)\n",
    "    H = einsum(\"ijk,ka->ija\", H, Wh)\n",
    "    Mt = F.tanh(Y + H)\n",
    "    # -- [batch_size x seq_length]\n",
    "    at = F.softmax(einsum(\"ijk,k->ij\", Mt, w))\n",
    "    # -- [batch_size x k_out]\n",
    "    rt = einsum(\"ijk,ij->ik\", Y, at)\n",
    "    ht1 = F.tanh(Wp(rt) + Wx(ht))\n",
    "    return ht1, at, rt1"
   ]
  },
  {
   "cell_type": "code",
   "execution_count": 53,
   "metadata": {
    "cell_style": "split",
    "slideshow": {
     "slide_type": "fragment"
    }
   },
   "outputs": [
    {
     "data": {
      "image/png": "[encoded data removed]",
      "text/plain": [
       "<matplotlib.figure.Figure at 0x10e84e6a0>"
      ]
     },
     "metadata": {},
     "output_type": "display_data"
    },
    {
     "data": {
      "image/png": "[encoded data removed]",
      "text/plain": [
       "<matplotlib.figure.Figure at 0x10f55d400>"
      ]
     },
     "metadata": {},
     "output_type": "display_data"
    },
    {
     "data": {
      "image/png": "[encoded data removed]",
      "text/plain": [
       "<matplotlib.figure.Figure at 0x10f2622e8>"
      ]
     },
     "metadata": {},
     "output_type": "display_data"
    },
    {
     "data": {
      "image/png": "[encoded data removed]",
      "text/plain": [
       "<matplotlib.figure.Figure at 0x10f24dac8>"
      ]
     },
     "metadata": {},
     "output_type": "display_data"
    }
   ],
   "source": [
    "ht, a, _ = attention(Y, ht, rt)\n",
    "plot_matrix(to_numpy(a[0]))\n",
    "plot_matrix(to_numpy(Y[0]))\n",
    "plot_matrix(to_numpy(X1[0]))\n",
    "plot_matrix(to_numpy(I1[0]))\n"
   ]
  },
  {
   "cell_type": "markdown",
   "metadata": {
    "slideshow": {
     "slide_type": "slide"
    }
   },
   "source": [
    "# Use-case: Recognizing Textual Entailment (RTE)\n",
    "\n",
    "- **A wedding party is taking pictures**\n",
    "  - There is a funeral\t\t\t\t\t: **<span class=red>Contradiction</span>**\n",
    "  - They are outside\t\t\t\t\t: **<span class=blue>Neutral</span>**\n",
    "  - Someone got married\t\t\t\t    : **<span class=green>Entailment</span>**"
   ]
  },
  {
   "cell_type": "markdown",
   "metadata": {
    "slideshow": {
     "slide_type": "fragment"
    }
   },
   "source": [
    "#### State of the Art until 2015\n",
    "\n",
    "- Engineered natural language processing pipelines\n",
    "- Various external resources\n",
    "- Specialized subcomponents\n",
    "- Extensive manual creation of **features**:\n",
    "  - Negation detection, word overlap, part-of-speech tags, dependency parses, alignment, unaligned matching, chunk alignment, synonym, hypernym, antonym, denotation graph\n",
    "  \n",
    "<div class=cite>[Lai and Hockenmaier, 2014, Jimenez et al., 2014, Zhao et al., 2014, Beltagy et al., 2015, ...]</div>"
   ]
  },
  {
   "cell_type": "markdown",
   "metadata": {
    "slideshow": {
     "slide_type": "slide"
    }
   },
   "source": [
    "### Neural Networks for RTE"
   ]
  },
  {
   "cell_type": "markdown",
   "metadata": {
    "cell_style": "split",
    "slideshow": {
     "slide_type": "-"
    }
   },
   "source": [
    "**Previous RTE corpora**:\n",
    "- Tiny data sets (1k-10k examples)\n",
    "- Partly synthetic examples"
   ]
  },
  {
   "cell_type": "markdown",
   "metadata": {
    "cell_style": "split",
    "slideshow": {
     "slide_type": "fragment"
    }
   },
   "source": [
    "**Stanford Natural Inference Corpus (SNLI)**:\n",
    "- 500k sentence pairs\n",
    "- Two orders of magnitude larger than existing RTE data set\n",
    "- All examples generated by humans\n"
   ]
  },
  {
   "cell_type": "markdown",
   "metadata": {
    "slideshow": {
     "slide_type": "slide"
    }
   },
   "source": [
    "### Independent Sentence Encoding\n",
    "\n",
    "Same LSTM encodes premise and hypothesis\n",
    "\n",
    "<img src=\"./figures/3-attention/rte_encoding.svg\" width=60%/> \n",
    "\n",
    "<div class=cite>[Bowman et al, 2015]</div>\n"
   ]
  },
  {
   "cell_type": "markdown",
   "metadata": {
    "slideshow": {
     "slide_type": "slide"
    }
   },
   "source": [
    "> You can’t cram the meaning of a whole\n",
    "%&!\\$# sentence into a single \\$&!#* vector!\n",
    ">\n",
    "> -- <cite>Raymond J. Mooney</cite>"
   ]
  },
  {
   "cell_type": "markdown",
   "metadata": {
    "slideshow": {
     "slide_type": "slide"
    }
   },
   "source": [
    "### Independent Sentence Encoding\n",
    "\n",
    "<img src=\"./figures/3-attention/mlp.svg\" width=60%/> \n",
    "\n",
    "<div class=cite>[Bowman et al, 2015]</div>\n"
   ]
  },
  {
   "cell_type": "markdown",
   "metadata": {
    "slideshow": {
     "slide_type": "slide"
    }
   },
   "source": [
    "## Results\n",
    "\n",
    "| Model | k | θ<sub>W+M</sub> | θ<sub>M</sub> | Train | Dev | Test |\n",
    "|-|-|-|-|-|-|-|\n",
    "| LSTM [<span class=blue>Bowman et al.</span>] | 100 | \\\\(\\approx\\\\)10M | 221k | 84.4 | - | 77.6|\n",
    "| Classifier [<span class=blue>Bowman et al.</span>]| - | - | - | 99.7 | - | 78.2|"
   ]
  },
  {
   "cell_type": "markdown",
   "metadata": {
    "slideshow": {
     "slide_type": "slide"
    }
   },
   "source": [
    "### Conditional Endcoding\n",
    "\n",
    "<img src=\"figures/3-attention/conditional_encoding.svg\" width=60%/> "
   ]
  },
  {
   "cell_type": "markdown",
   "metadata": {
    "slideshow": {
     "slide_type": "fragment"
    }
   },
   "source": [
    "\\begin{align}\n",
    "\\text{softmax}(\\text{tanh}(\\mathbf{W}\\mathbf{h}_N))\n",
    "\\end{align}"
   ]
  },
  {
   "cell_type": "markdown",
   "metadata": {
    "hide_input": true,
    "slideshow": {
     "slide_type": "slide"
    }
   },
   "source": [
    "## Results\n",
    "\n",
    "| Model | k | θ<sub>W+M</sub> | θ<sub>M</sub> | Train | Dev | Test |\n",
    "|-|-|-|-|-|-|-|\n",
    "| LSTM [<span class=blue>Bowman et al.</span>] | 100 | \\\\(\\approx\\\\)10M | 221k | 84.4 | - | 77.6|\n",
    "| Classifier [<span class=blue>Bowman et al.</span>]| - | - | - | 99.7 | - | 78.2|\n",
    "| Conditional Endcoding | 159 | 3.9M | 252k | 84.4 | 83.0 | 81.4|"
   ]
  },
  {
   "cell_type": "markdown",
   "metadata": {
    "hide_input": true,
    "slideshow": {
     "slide_type": "slide"
    }
   },
   "source": [
    "### Attention\n",
    "\n",
    "<img src=\"./figures/3-attention/attention_encoding.svg\" width=60%/> "
   ]
  },
  {
   "cell_type": "markdown",
   "metadata": {
    "slideshow": {
     "slide_type": "fragment"
    }
   },
   "source": [
    "<div class=small>\n",
    "\\begin{align}\n",
    "  \\mathbf{M} &= \\tanh(\\mathbf{W}^y\\mathbf{Y}+ \\mathbf{W}^h\\mathbf{h}_N\\mathbf{1}^T_L)&\\mathbf{M}&\\in\\mathbb{R}^{k \\times L}\\\\\n",
    "  \\alpha &= \\text{softmax}(\\mathbf{w}^T\\mathbf{M})&\\alpha&\\in\\mathbb{R}^L\\\\\n",
    "  \\mathbf{r} &= \\mathbf{Y}\\alpha^T&\\mathbf{r}&\\in\\mathbb{R}^k\n",
    "\\end{align}\n",
    "</div>\n",
    "\n",
    "<div class=cite> [Graves 2013, Bahdanau et al. 2015]</div>"
   ]
  },
  {
   "cell_type": "markdown",
   "metadata": {
    "slideshow": {
     "slide_type": "slide"
    }
   },
   "source": [
    "<img  src=\"./figures/3-attention/camel.png\"/>"
   ]
  },
  {
   "cell_type": "markdown",
   "metadata": {
    "slideshow": {
     "slide_type": "slide"
    }
   },
   "source": [
    "## Contextual Understanding\n",
    "<img  src=\"./figures/3-attention/pink.png\"/>"
   ]
  },
  {
   "cell_type": "markdown",
   "metadata": {
    "slideshow": {
     "slide_type": "slide"
    }
   },
   "source": [
    "## Results\n",
    "\n",
    "| Model | k | θ<sub>W+M</sub> | θ<sub>M</sub> | Train | Dev | Test |\n",
    "|-|-|-|-|-|-|-|\n",
    "| LSTM [<span class=blue>Bowman et al.</span>] | 100 | \\\\(\\approx\\\\)10M | 221k | 84.4 | - | 77.6|\n",
    "| Classifier [<span class=blue>Bowman et al.</span>]| - | - | - | 99.7 | - | 78.2|\n",
    "| Conditional Encoding | 159 | 3.9M | 252k | 84.4 | 83.0 | 81.4|\n",
    "| Attention | 100 | 3.9M | 242k | 85.4 | 83.2 | 82.3 |"
   ]
  },
  {
   "cell_type": "markdown",
   "metadata": {
    "slideshow": {
     "slide_type": "slide"
    }
   },
   "source": [
    "## Fuzzy Attention\n",
    "<img  src=\"./figures/3-attention/mimes.png\"/>"
   ]
  },
  {
   "cell_type": "markdown",
   "metadata": {
    "slideshow": {
     "slide_type": "slide"
    }
   },
   "source": [
    "# Word-by-word Attention\n",
    "\n",
    "<img src=\"./figures/3-attention/word_attention_encoding.svg\" width=60%/> "
   ]
  },
  {
   "cell_type": "markdown",
   "metadata": {
    "slideshow": {
     "slide_type": "fragment"
    }
   },
   "source": [
    "<div class=small>\n",
    "\\begin{align}\n",
    "  \\mathbf{M}_t &= \\tanh(\\mathbf{W}^y\\mathbf{Y}+(\\mathbf{W}^h\\mathbf{h}_t+\\mathbf{W}^r\\mathbf{r}_{t-1})\\mathbf{1}^T_L) & \\mathbf{M}_t &\\in\\mathbb{R}^{k\\times L}\\\\\n",
    "  \\alpha_t &= \\text{softmax}(\\mathbf{w}^T\\mathbf{M}_t)&\\alpha_t&\\in\\mathbb{R}^L\\\\\n",
    "  \\mathbf{r}_t &= \\mathbf{Y}\\alpha^T_t + \\tanh(\\mathbf{W}^t\\mathbf{r}_{t-1})&\\mathbf{r}_t&\\in\\mathbb{R}^k\n",
    "\\end{align}\n",
    "</div>\n",
    "<div class=cite>[Bahdanau et al. 2015, Hermann et al. 2015, Rush et al. 2015, Rocktäschel et al. 2016]</div>"
   ]
  },
  {
   "cell_type": "markdown",
   "metadata": {
    "slideshow": {
     "slide_type": "slide"
    }
   },
   "source": [
    "## Reordering\n",
    "<img src=\"./figures/3-attention/reordering.png\" width=40%/>"
   ]
  },
  {
   "cell_type": "markdown",
   "metadata": {
    "slideshow": {
     "slide_type": "slide"
    }
   },
   "source": [
    "## Garbage Can = Trashcan\n",
    "<img  src=\"./figures/3-attention/trashcan.png\" width=70%/>"
   ]
  },
  {
   "cell_type": "markdown",
   "metadata": {
    "slideshow": {
     "slide_type": "slide"
    }
   },
   "source": [
    "## Kids =  Girl + Boy\n",
    "<img  src=\"./figures/3-attention/kids.png\" width=60%/>"
   ]
  },
  {
   "cell_type": "markdown",
   "metadata": {
    "slideshow": {
     "slide_type": "slide"
    }
   },
   "source": [
    "## Snow is outside\n",
    "<img  src=\"./figures/3-attention/snow.png\" width=90%/>"
   ]
  },
  {
   "cell_type": "markdown",
   "metadata": {
    "slideshow": {
     "slide_type": "slide"
    }
   },
   "source": [
    "## Results\n",
    "\n",
    "| Model | k | θ<sub>W+M</sub> | θ<sub>M</sub> | Train | Dev | Test |\n",
    "|-|-|-|-|-|-|-|\n",
    "| LSTM [<span class=blue>Bowman et al.</span>] | 100 | \\\\(\\approx\\\\)10M | 221k | 84.4 | - | 77.6|\n",
    "| Classifier [<span class=blue>Bowman et al.</span>]| - | - | - | 99.7 | - | 78.2|\n",
    "| Conditional Encoding | 159 | 3.9M | 252k | 84.4 | 83.0 | 81.4|\n",
    "| Attention | 100 | 3.9M | 242k | 85.4 | 83.2 | 82.3 |\n",
    "| Word-by-word Attention | 100 | 3.9M | 252k | 85.3 | **83.7** | **83.5** |"
   ]
  },
  {
   "cell_type": "markdown",
   "metadata": {
    "slideshow": {
     "slide_type": "slide"
    }
   },
   "source": [
    "# Attention Is All You Need\n",
    "\n",
    "Model Architecture | Scaled Dot-Product Attention | Multi-Head Attention\n",
    ":--:|:--:|:--:\n",
    "<img src=\"./figures/proprietary/vaswani2017attention/ModalNet-21.png\" width=500>  | <img src=\"./figures/proprietary/vaswani2017attention/ModalNet-19.png\" width=300> | <img src=\"./figures/proprietary/vaswani2017attention/ModalNet-20.png\" width=400>\n",
    "\n",
    "<div class=cite><a href=\"https://arxiv.org/abs/1706.03762\">[Vaswani et al, 2017]</a></div>"
   ]
  },
  {
   "cell_type": "markdown",
   "metadata": {
    "slideshow": {
     "slide_type": "slide"
    }
   },
   "source": [
    "# Further Reading\n",
    "- [Bilaniuk. Einstein Summation in Numpy. 2016.](https://obilaniu6266h16.wordpress.com/2016/02/04/einstein-summation-in-numpy/)"
   ]
  }
 ],
 "metadata": {
  "celltoolbar": "Slideshow",
  "kernelspec": {
   "display_name": "Python 3",
   "language": "python",
   "name": "python3"
  },
  "language_info": {
   "codemirror_mode": {
    "name": "ipython",
    "version": 3
   },
   "file_extension": ".py",
   "mimetype": "text/x-python",
   "name": "python",
   "nbconvert_exporter": "python",
   "pygments_lexer": "ipython3",
   "version": "3.6.1"
  },
  "livereveal": {
   "controls": "false",
   "progress": "true",
   "theme": "white",
   "transition": "none"
  }
 },
 "nbformat": 4,
 "nbformat_minor": 2
}
