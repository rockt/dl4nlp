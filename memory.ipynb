{
 "cells": [
  {
   "cell_type": "code",
   "execution_count": 1,
   "metadata": {
    "hideCode": true,
    "hideOutput": true,
    "hidePrompt": true,
    "slideshow": {
     "slide_type": "skip"
    }
   },
   "outputs": [
    {
     "data": {
      "text/html": [
       "<style>\n",
       ".red { color: #E41A1C; }\n",
       ".orange { color: #FF7F00 }\n",
       ".yellow { color: #FFC020 }         \n",
       ".green { color: #4DAF4A }                  \n",
       ".blue { color: #377EB8; }\n",
       ".purple { color: #984EA3 }       \n",
       "\n",
       "ctb_global_show div.ctb_hideshow.ctb_show {\n",
       "    display: inline;\n",
       "} \n",
       "     \n",
       "#for reveal         \n",
       ".aside .controls, .reveal .controls {\n",
       "    display: none !important;                            \n",
       "    width: 0px !important;\n",
       "    height: 0px !important;\n",
       "}\n",
       "    \n",
       ".rise-enabled .reveal .slide-number {\n",
       "    right: 25px;\n",
       "    bottom: 25px;                        \n",
       "    font-size: 200%;     \n",
       "    color: #377EB8;                        \n",
       "}         \n",
       "         \n",
       ".rise-enabled .reveal .progress span {\n",
       "    background: #377EB8;\n",
       "}     \n",
       "         \n",
       ".cite {\n",
       "    float: right;\n",
       "    color: #377EB8;    \n",
       "}         \n",
       "         \n",
       ".rendered_html table {\n",
       "    font-size: 100%;\n",
       "}   \n",
       "        \n",
       "div.tabContent {\n",
       "    padding: 0px;\n",
       "    background: #ffffff;     \n",
       "    border: 0px;                        \n",
       "}  \n",
       "</style>"
      ],
      "text/plain": [
       "<IPython.core.display.HTML object>"
      ]
     },
     "metadata": {},
     "output_type": "display_data"
    },
    {
     "data": {
      "application/javascript": [
       "require(['base/js/utils'],\n",
       "function(utils) {\n",
       "   utils.load_extensions('calico-spell-check', 'calico-document-tools', 'calico-cell-tools');\n",
       "});"
      ],
      "text/plain": [
       "<IPython.core.display.Javascript object>"
      ]
     },
     "metadata": {},
     "output_type": "display_data"
    },
    {
     "data": {
      "text/latex": [
       "$$\n",
       "\n",
       "% Misc Math\n",
       "\\let\\union\\cup\n",
       "\\let\\dom\\mathcal\n",
       "\\let\\set\\dom \n",
       "\\newcommand\\ls[1]{\\verb~#1~}\n",
       "\\def\\R{\\mathbb{R}}\n",
       "\\def\\N{\\mathbb{N}}\n",
       "\\def\\E{\\mathbb{E}}\n",
       "\\def\\C{\\mathbb{C}}\n",
       "\\renewcommand\\vec[1]{{\\mathbf{#1}}}\n",
       "\\let\\mat\\mathbf\n",
       "\\let\\ten\\mathcal\n",
       "\\let\\infinity\\infty \n",
       "\\let\\grad\\nabla\n",
       "\\let\\mul\\odot\n",
       "\\newcommand\\onehot[1]{\\vec{1}_{#1}}\n",
       "\n",
       "% Optimization\n",
       "\\def\\loss{\\mathcal{L}}\n",
       "\\def\\params{{\\vec{\\theta}}}\n",
       "\\def\\globalloss{\\mathfrak{L}}\n",
       "\n",
       "% Neural Network Modules\n",
       "\\newcommand{\\module}[1]{\\verb~#1~}\n",
       "\\def\\ndot{\\module{dot}}\n",
       "\\def\\sigm{\\module{sigm}}\n",
       "\\def\\nlog{\\module{log}}\n",
       "\\def\\relu{\\module{ReLU}}\n",
       "\\def\\rnn{\\module{RNN}}\n",
       "\\def\\lstm{\\module{LSTM}}\n",
       "\\def\\cell{\\module{cell}}\n",
       "\\def\\cons{\\module{concat}}\n",
       "\\def\\split{\\module{split}}\n",
       "\\def\\mul{\\module{matmul}} % fixme: clash with component-wise mul\n",
       "\\let\\matmul\\mul\n",
       "\\def\\ntanh{\\module{tanh}}\n",
       "\\def\\nsoftmax{\\module{softmax}}\n",
       "\\def\\nunify{\\module{sim}}\n",
       "\n",
       "\n",
       "% Math operators\n",
       "\\DeclareMathOperator{\\softmax}{softmax}\n",
       "\\DeclareMathOperator*{\\argmax}{arg\\,max}\n",
       "\\DeclareMathOperator*{\\argmin}{arg\\,min}\n",
       "\\let\\sigmoid\\sigma\n",
       "\\DeclareMathOperator{\\unify}{unify}\n",
       "\\DeclareMathOperator{\\real}{real}\n",
       "\\DeclareMathOperator{\\imag}{imag}\n",
       "\\DeclareMathOperator{\\diag}{diag}\n",
       "\n",
       "\n",
       "\n",
       "\\require{color}\n",
       "\\definecolor{nice-red}{RGB}{228, 26, 28}\n",
       "\\definecolor{nice-orange}{RGB}{255, 127, 0}\n",
       "\\definecolor{nice-yellow}{RGB}{255, 192, 32}\n",
       "\\definecolor{nice-green}{RGB}{77, 175, 74}\n",
       "\\definecolor{nice-blue}{RGB}{55, 126, 184}\n",
       "\\definecolor{nice-purple}{RGB}{152, 78, 163}\n",
       "\n",
       "% TODOs\n",
       "\\def\\blah{\\bf\\color{red}???}\n",
       "\\def\\todo{\\bf\\color{red}TODO}\n",
       "\\def\\toref{\\bf\\color{nice-purple}TOREF}\n",
       "$$"
      ]
     },
     "metadata": {},
     "output_type": "display_data"
    }
   ],
   "source": [
    "%run \"preamble.ipynb\"\n",
    "%matplotlib inline\n",
    "import torch\n",
    "from torch.autograd import Variable\n",
    "from dl4nlp.util import *\n",
    "from dl4nlp.einsum import einsum\n",
    "from torch import nn\n",
    "import torch.nn.functional as F\n",
    "import numpy as np\n",
    "from torch.nn import Parameter\n",
    "from dl4nlp.tikz import *\n",
    "from dl4nlp.rnn import *\n",
    "import IPython.display\n",
    "IPython.display.display_latex(IPython.display.Latex(filename=\"tex/macros.tex\"))"
   ]
  },
  {
   "cell_type": "markdown",
   "metadata": {
    "slideshow": {
     "slide_type": "slide"
    }
   },
   "source": [
    "<center>\n",
    "<h1>Deep Learning for Natural Language Processing IV</h1>\n",
    "<h2>Memory</h2>\n",
    "<br>\n",
    "Tim Rocktäschel<br>\n",
    "<a href=\"https://rockt.github.com\">rockt.github.com</a> <a href=\"mailto:tim.rocktaschel@cs.ox.ac.uk\">tim.rocktaschel@cs.ox.ac.uk</a> <a href=\"https://twitter.com/_rockt\">Twitter: @_rockt</a><br>\n",
    "<img src=\"./figures/oxford.svg\" width=30%><br>\n",
    "2nd Int'l Summer School on Data Science, Split, Croatia<br>\n",
    "27th September 2017<br>\n",
    "</center>"
   ]
  },
  {
   "cell_type": "markdown",
   "metadata": {
    "slideshow": {
     "slide_type": "slide"
    }
   },
   "source": [
    "# Attention for Question Answering \n",
    "\n",
    "<img src=\"./figures/proprietary/hermann2015teaching/reader.svg\" width=900> | <img src=\"./figures/proprietary/hermann2015teaching/example.svg\" width=900>\n",
    ":--:|:--:\n",
    "\n",
    "<div class=cite><a href=\"https://arxiv.org/abs/1506.03340\">[Hermann et al., 2015]</a></div>"
   ]
  },
  {
   "cell_type": "markdown",
   "metadata": {
    "slideshow": {
     "slide_type": "slide"
    }
   },
   "source": [
    "# bAbI Question Answering\n",
    "\n",
    "<img src=\"./figures/proprietary/weston2015towards/tasks.png\" width=\"50%\">\n",
    "\n",
    "\n",
    "<div class=cite><a href=\"https://arxiv.org/abs/1502.05698\">[Weston et al., 2015]</a></div>"
   ]
  },
  {
   "cell_type": "markdown",
   "metadata": {
    "slideshow": {
     "slide_type": "slide"
    }
   },
   "source": [
    "# End-to-End Memory Networks\n",
    "\n",
    "<img src=\"./figures/proprietary/sukhbaatar2015end/model.svg\" width=100%>\n",
    "\n",
    "\n",
    "<div class=cite><a href=\"https://arxiv.org/abs/1503.08895\">[Sukhbaatar et al., 2015]</a></div>"
   ]
  },
  {
   "cell_type": "markdown",
   "metadata": {
    "slideshow": {
     "slide_type": "slide"
    }
   },
   "source": [
    "<img src=\"./figures/proprietary/sukhbaatar2015end/babi.png\" width=100%>\n",
    "\n",
    "<div class=cite><a href=\"https://arxiv.org/abs/1503.08895\">[Sukhbaatar et al., 2015]</a></div>"
   ]
  },
  {
   "cell_type": "markdown",
   "metadata": {
    "slideshow": {
     "slide_type": "slide"
    }
   },
   "source": [
    "# Key-Value Memory Networks\n",
    "\n",
    "<img src=\"./figures/proprietary/dodge2016key/model.svg\" width=100%>\n",
    "\n",
    "<div class=cite><a href=\"https://arxiv.org/abs/1606.03126\">[Dodge et al., 2016]</a></div>"
   ]
  },
  {
   "cell_type": "markdown",
   "metadata": {
    "slideshow": {
     "slide_type": "slide"
    }
   },
   "source": [
    "<img src=\"./figures/proprietary/dodge2016key/task.png\" width=700> | <img src=\"./figures/proprietary/dodge2016key/results.png\" width=900>\n",
    ":--:|:--:\n",
    "\n",
    "<div class=cite><a href=\"https://arxiv.org/abs/1606.03126\">[Dodge et al., 2016]</a></div>"
   ]
  },
  {
   "cell_type": "markdown",
   "metadata": {
    "slideshow": {
     "slide_type": "slide"
    }
   },
   "source": [
    "# Use-case: Language Modeling\n",
    "\n",
    "<img src=\"figures/michal_attention.png\" width=\"90%\"> | <img src=\"figures/michal_kv.png\" width=\"90%\">\n",
    ":--:|:--:\n",
    "\n",
    "<div class=cite>[Daniluk et al., 2017]</div>"
   ]
  },
  {
   "cell_type": "markdown",
   "metadata": {
    "slideshow": {
     "slide_type": "slide"
    }
   },
   "source": [
    "<img src=\"figures/michal_kvn.png\" width=\"90%\"> | <img src=\"figures/michal_rnnn.png\" width=\"90%\">\n",
    ":--:|:--:\n",
    "\n",
    "<div class=cite>[Daniluk et al., 2017]</div>"
   ]
  },
  {
   "cell_type": "markdown",
   "metadata": {
    "slideshow": {
     "slide_type": "slide"
    }
   },
   "source": [
    "<img src=\"figures/michal_results.png\" width=\"100%\">\n",
    "\n",
    "<div class=cite>[Daniluk et al., 2017]</div>"
   ]
  },
  {
   "cell_type": "markdown",
   "metadata": {
    "slideshow": {
     "slide_type": "slide"
    }
   },
   "source": [
    "<img src=\"./figures/neuralize.png\" width=\"100%\">"
   ]
  },
  {
   "cell_type": "markdown",
   "metadata": {
    "slideshow": {
     "slide_type": "slide"
    }
   },
   "source": [
    "# Differentiable Neural Computer\n",
    "\n",
    "<img src=\"./figures/proprietary/graves2016differentiable/dnc.png\" width=\"100%\">\n",
    "\n",
    "<div class=cite>[Graves et al., 2016]</div>"
   ]
  },
  {
   "cell_type": "markdown",
   "metadata": {
    "slideshow": {
     "slide_type": "slide"
    }
   },
   "source": [
    "# Stacks: Unbounded Memory\n",
    "\n",
    "\n",
    "<img src=\"./figures/proprietary/grefenstette2015learning/controller.png\" width=\"100%\">\n",
    "\n",
    "<div class=cite><a href=\"https://arxiv.org/abs/1506.02516\">[Grefenstette et al., 2015]</a></div>"
   ]
  },
  {
   "cell_type": "markdown",
   "metadata": {
    "slideshow": {
     "slide_type": "slide"
    }
   },
   "source": [
    "<img src=\"./figures/proprietary/grefenstette2015learning/stack.png\" width=\"100%\">\n",
    "\n",
    "<div class=cite><a href=\"https://arxiv.org/abs/1506.02516\">[Grefenstette et al., 2015]</a></div>"
   ]
  },
  {
   "cell_type": "markdown",
   "metadata": {},
   "source": [
    "Experiment | Deep LSTM | Stack | Queue | DeQue\n",
    ":--:|:--:|:--:|:--:|:--:\n",
    "Copy | Poor | Poor | **Solved** | **Solved** \n",
    "Reversal | Poor | **Solved** | Poor | **Solved**\n",
    "SVO-SOV | _Converges_ | **Solved** | **Solved** | **Solved**\n",
    "Conjugation | _Converge_ | _Converges_ | **Solved** | **Solved**\n",
    "\n",
    "<div class=cite><a href=\"https://arxiv.org/abs/1506.02516\">[Grefenstette et al., 2015]</a></div>"
   ]
  },
  {
   "cell_type": "markdown",
   "metadata": {
    "slideshow": {
     "slide_type": "slide"
    }
   },
   "source": [
    "# World Algebra Problems\n",
    "\n",
    "Jane spent \\$42 for shoes. \n",
    "\n",
    "This was \\$14 less than twice what she spent for a blouse. \n",
    "\n",
    "How much was the blouse?\n",
    "\n",
    "x = (42+14)/2 = 28"
   ]
  },
  {
   "cell_type": "markdown",
   "metadata": {
    "slideshow": {
     "slide_type": "slide"
    }
   },
   "source": [
    "# Differentiable Forth\n",
    "\n",
    "<img src=\"./figures/d4.png\" width=\"100%\">\n",
    "\n",
    "<div class=cite><a href=\"https://arxiv.org/abs/1605.06640\">[Bosnjak et al., 2017]</a></div>"
   ]
  },
  {
   "cell_type": "markdown",
   "metadata": {
    "slideshow": {
     "slide_type": "slide"
    }
   },
   "source": [
    "<img src=\"./figures/d4-trace-start.png\" width=\"100%\">\n",
    "<img src=\"./figures/d4-trace-middle.png\" width=\"100%\">\n",
    "<img src=\"./figures/d4-trace-end.png\" width=\"100%\">\n",
    "<div class=cite><a href=\"https://arxiv.org/abs/1605.06640\">[Bosnjak et al., 2017]</a></div>"
   ]
  },
  {
   "cell_type": "markdown",
   "metadata": {
    "slideshow": {
     "slide_type": "slide"
    }
   },
   "source": [
    "Model | Accuracy (%)\n",
    ":--:|:--:\n",
    "Roy & Roth (2015) | 55.5\n",
    "Seq2Seq (Bouchard et al., 2016) | 95.0\n",
    "_GeNeRe_ (Bouchard et al., 2016) | 98.5\n",
    "Differentiable Forth | 96.0\n",
    "\n",
    "<div class=cite><a href=\"https://arxiv.org/abs/1605.06640\">[Bosnjak et al., 2017]</a></div>"
   ]
  },
  {
   "cell_type": "markdown",
   "metadata": {
    "slideshow": {
     "slide_type": "slide"
    }
   },
   "source": [
    "# Further Reading"
   ]
  }
 ],
 "metadata": {
  "celltoolbar": "Hide code",
  "kernelspec": {
   "display_name": "Python 3",
   "language": "python",
   "name": "python3"
  },
  "language_info": {
   "codemirror_mode": {
    "name": "ipython",
    "version": 3
   },
   "file_extension": ".py",
   "mimetype": "text/x-python",
   "name": "python",
   "nbconvert_exporter": "python",
   "pygments_lexer": "ipython3",
   "version": "3.6.1"
  },
  "livereveal": {
   "center": "false",
   "controls": "false",
   "height": 1080,
   "margin": 0.1,
   "maxScale": 1.6,
   "minScale": 0.2,
   "progress": "true",
   "theme": "white",
   "transition": "none",
   "width": 1920
  }
 },
 "nbformat": 4,
 "nbformat_minor": 2
}
