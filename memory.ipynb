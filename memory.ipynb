{
 "cells": [
  {
   "cell_type": "markdown",
   "metadata": {
    "slideshow": {
     "slide_type": "slide"
    }
   },
   "source": [
    "<center>\n",
    "<h1>Deep Learning for Natural Language Processing III</h1>\n",
    "<h2>Memory</h2>\n",
    "<br>\n",
    "Tim Rocktäschel<br>\n",
    "<a href=\"https://rockt.github.com\">rockt.github.com</a> <a href=\"mailto:tim.rocktaschel@cs.ox.ac.uk\">tim.rocktaschel@cs.ox.ac.uk</a> <a href=\"https://twitter.com/_rockt\">Twitter: @_rockt</a><br>\n",
    "<img src=\"./figures/oxford.svg\" width=30%><br>\n",
    "2nd Int'l Summer School on Data Science, Split, Croatia<br>\n",
    "27th September 2017<br>\n",
    "</center>"
   ]
  },
  {
   "cell_type": "markdown",
   "metadata": {},
   "source": [
    "# Use-case: Language Modeling"
   ]
  },
  {
   "cell_type": "markdown",
   "metadata": {},
   "source": [
    "# Use-case: Question Answering "
   ]
  }
 ],
 "metadata": {
  "kernelspec": {
   "display_name": "Python 3",
   "language": "python",
   "name": "python3"
  },
  "language_info": {
   "codemirror_mode": {
    "name": "ipython",
    "version": 3
   },
   "file_extension": ".py",
   "mimetype": "text/x-python",
   "name": "python",
   "nbconvert_exporter": "python",
   "pygments_lexer": "ipython3",
   "version": "3.6.1"
  }
 },
 "nbformat": 4,
 "nbformat_minor": 2
}
