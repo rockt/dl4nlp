{
 "cells": [
  {
   "cell_type": "code",
   "execution_count": 1,
   "metadata": {
    "hide_input": false,
    "slideshow": {
     "slide_type": "skip"
    }
   },
   "outputs": [
    {
     "data": {
      "text/html": [
       "<style>\n",
       ".red { color: #E41A1C; }\n",
       ".orange { color: #FF7F00 }\n",
       ".yellow { color: #FFC020 }         \n",
       ".green { color: #4DAF4A }                  \n",
       ".blue { color: #377EB8; }\n",
       ".purple { color: #984EA3 }       \n",
       "\n",
       "ctb_global_show div.ctb_hideshow.ctb_show {\n",
       "    display: inline;\n",
       "} \n",
       "     \n",
       "#for reveal         \n",
       ".aside .controls, .reveal .controls {\n",
       "    display: none !important;                            \n",
       "    width: 0px !important;\n",
       "    height: 0px !important;\n",
       "}\n",
       "    \n",
       ".rise-enabled .reveal .slide-number {\n",
       "    right: 25px;\n",
       "    bottom: 25px;                        \n",
       "    font-size: 200%;     \n",
       "    color: #377EB8;                        \n",
       "}         \n",
       "         \n",
       ".rise-enabled .reveal .progress span {\n",
       "    background: #377EB8;\n",
       "}     \n",
       "         \n",
       ".cite {\n",
       "    float: right;\n",
       "    color: #377EB8;    \n",
       "}         \n",
       "         \n",
       "</style>"
      ],
      "text/plain": [
       "<IPython.core.display.HTML object>"
      ]
     },
     "metadata": {},
     "output_type": "display_data"
    },
    {
     "data": {
      "text/html": [
       "<!--\n",
       "div.tabContent {\n",
       "    padding: 0px;\n",
       "    background: #ffffff;     \n",
       "    border: 0px;                        \n",
       "}  \n",
       "         \n",
       ".left {\n",
       "    float: left;\n",
       "    width: 50%;\n",
       "    vertical-align: text-top;\n",
       "}\n",
       "\n",
       ".right {\n",
       "    margin-left: 50%;\n",
       "    vertical-align: text-top;                            \n",
       "}    \n",
       "         \n",
       ".veryright {\n",
       "    margin-left: 70%;\n",
       "    vertical-align: text-top;                            \n",
       "}          \n",
       "               \n",
       ".small {         \n",
       "    zoom: 0.9;\n",
       "    -ms-zoom: 0.9;\n",
       "    -webkit-zoom: 0.9;\n",
       "    -moz-transform:  scale(0.9,0.9);\n",
       "    -moz-transform-origin: left center;  \n",
       "}          \n",
       "         \n",
       ".verysmall {         \n",
       "    zoom: 0.75;\n",
       "    -ms-zoom: 0.75;\n",
       "    -webkit-zoom: 0.75;\n",
       "    -moz-transform:  scale(0.75,0.75);\n",
       "    -moz-transform-origin: left center;  \n",
       "}         \n",
       "   \n",
       "        \n",
       ".tiny {         \n",
       "    zoom: 0.6;\n",
       "    -ms-zoom: 0.6;\n",
       "    -webkit-zoom: 0.6;\n",
       "    -moz-transform:  scale(0.6,0.6);\n",
       "    -moz-transform-origin: left center;  \n",
       "}         \n",
       "         \n",
       "         \n",
       ".rendered_html blockquote {\n",
       "    border-left-width: 0px;\n",
       "    padding: 15px;\n",
       "    margin: 0px;    \n",
       "    width: 100%;                            \n",
       "}         \n",
       "         \n",
       ".rendered_html th {\n",
       "    padding: 0.5em;  \n",
       "    border: 0px;                            \n",
       "}         \n",
       "         \n",
       ".rendered_html td {\n",
       "    padding: 0.25em;\n",
       "    border: 0px;                                                        \n",
       "}        \n",
       "    \n",
       ".present .top {\n",
       "    position: fixed !important;\n",
       "    top: 0 !important;                                   \n",
       "}                  \n",
       "    \n",
       ".present .rendered_html * + p, .present .rendered_html p, .present .rendered_html * + br, .present .rendered_html br {\n",
       "    margin: 0.5em 0;                            \n",
       "}  \n",
       "         \n",
       ".present tr, .present td {\n",
       "    border: 0px;\n",
       "    padding: 0.35em;                            \n",
       "}      \n",
       "         \n",
       ".present th {\n",
       "    border: 1px;\n",
       "}\n",
       "         \n",
       "tbody {\n",
       "    font-size: 65%;                            \n",
       "}         \n",
       "         \n",
       "present .prompt {\n",
       "    min-width: 0px !important;\n",
       "    transition-duration: 0s !important;\n",
       "}     \n",
       "         \n",
       ".prompt {\n",
       "    min-width: 0px !important;\n",
       "    transition-duration: 0s !important;                            \n",
       "}         \n",
       "         \n",
       ".rise-enabled .cell li {\n",
       "    line-height: 135%;\n",
       "}\n",
       "         \n",
       ".reveal pre code {\n",
       "    font-size: 50%;\n",
       "    line-height: normal;\n",
       "}   \n",
       "-->"
      ],
      "text/plain": [
       "<IPython.core.display.HTML object>"
      ]
     },
     "metadata": {},
     "output_type": "display_data"
    },
    {
     "data": {
      "application/javascript": [
       "require(['base/js/utils'],\n",
       "function(utils) {\n",
       "   utils.load_extensions('calico-spell-check', 'calico-document-tools', 'calico-cell-tools');\n",
       "});"
      ],
      "text/plain": [
       "<IPython.core.display.Javascript object>"
      ]
     },
     "metadata": {},
     "output_type": "display_data"
    },
    {
     "data": {
      "text/latex": [
       "$$\n",
       "\n",
       "% Misc Math\n",
       "\\let\\union\\cup\n",
       "\\let\\dom\\mathcal\n",
       "\\let\\set\\dom \n",
       "\\newcommand\\ls[1]{\\verb~#1~}\n",
       "\\def\\R{\\mathbb{R}}\n",
       "\\def\\N{\\mathbb{N}}\n",
       "\\def\\E{\\mathbb{E}}\n",
       "\\def\\C{\\mathbb{C}}\n",
       "\\renewcommand\\vec[1]{{\\mathbf{#1}}}\n",
       "\\let\\mat\\mathbf\n",
       "\\let\\ten\\mathcal\n",
       "\\let\\infinity\\infty \n",
       "\\let\\grad\\nabla\n",
       "\\let\\mul\\odot\n",
       "\\newcommand\\onehot[1]{\\vec{1}_{#1}}\n",
       "\n",
       "% Optimization\n",
       "\\def\\loss{\\mathcal{L}}\n",
       "\\def\\params{{\\vec{\\theta}}}\n",
       "\\def\\globalloss{\\mathfrak{L}}\n",
       "\n",
       "% Neural Network Modules\n",
       "\\newcommand{\\module}[1]{\\verb~#1~}\n",
       "\\def\\ndot{\\module{dot}}\n",
       "\\def\\sigm{\\module{sigm}}\n",
       "\\def\\nlog{\\module{log}}\n",
       "\\def\\relu{\\module{ReLU}}\n",
       "\\def\\rnn{\\module{RNN}}\n",
       "\\def\\lstm{\\module{LSTM}}\n",
       "\\def\\cell{\\module{cell}}\n",
       "\\def\\cons{\\module{concat}}\n",
       "\\def\\split{\\module{split}}\n",
       "\\def\\mul{\\module{matmul}} % fixme: clash with component-wise mul\n",
       "\\let\\matmul\\mul\n",
       "\\def\\ntanh{\\module{tanh}}\n",
       "\\def\\nsoftmax{\\module{softmax}}\n",
       "\\def\\nunify{\\module{sim}}\n",
       "\n",
       "\n",
       "% Math operators\n",
       "\\DeclareMathOperator{\\softmax}{softmax}\n",
       "\\DeclareMathOperator*{\\argmax}{arg\\,max}\n",
       "\\DeclareMathOperator*{\\argmin}{arg\\,min}\n",
       "\\let\\sigmoid\\sigma\n",
       "\\DeclareMathOperator{\\unify}{unify}\n",
       "\\DeclareMathOperator{\\real}{real}\n",
       "\\DeclareMathOperator{\\imag}{imag}\n",
       "\\DeclareMathOperator{\\diag}{diag}\n",
       "\n",
       "\n",
       "\n",
       "\\require{color}\n",
       "\\definecolor{nice-red}{RGB}{228, 26, 28}\n",
       "\\definecolor{nice-orange}{RGB}{255, 127, 0}\n",
       "\\definecolor{nice-yellow}{RGB}{255, 192, 32}\n",
       "\\definecolor{nice-green}{RGB}{77, 175, 74}\n",
       "\\definecolor{nice-blue}{RGB}{55, 126, 184}\n",
       "\\definecolor{nice-purple}{RGB}{152, 78, 163}\n",
       "\n",
       "% TODOs\n",
       "\\def\\blah{\\bf\\color{red}???}\n",
       "\\def\\todo{\\bf\\color{red}TODO}\n",
       "\\def\\toref{\\bf\\color{nice-purple}TOREF}\n",
       "$$"
      ]
     },
     "metadata": {},
     "output_type": "display_data"
    }
   ],
   "source": [
    "%run \"preamble.ipynb\"\n",
    "%matplotlib inline\n",
    "import torch\n",
    "from torch.autograd import Variable\n",
    "from dl4nlp.util import *\n",
    "from torch import nn\n",
    "import torch.nn.functional as F\n",
    "import numpy as np\n",
    "from torch.nn import Parameter\n",
    "from dl4nlp.tikz import *\n",
    "import IPython.display\n",
    "IPython.display.display_latex(IPython.display.Latex(filename=\"tex/macros.tex\"))"
   ]
  },
  {
   "cell_type": "markdown",
   "metadata": {
    "slideshow": {
     "slide_type": "slide"
    }
   },
   "source": [
    "<center>\n",
    "<h1>Deep Learning for Natural Language Processing I</h1>\n",
    "<h2>Word Vectors</h2>\n",
    "<br>\n",
    "Tim Rocktäschel<br>\n",
    "<a href=\"https://rockt.github.com\">rockt.github.com</a> <a href=\"mailto:tim.rocktaschel@cs.ox.ac.uk\">tim.rocktaschel@cs.ox.ac.uk</a> <a href=\"https://twitter.com/_rockt\">Twitter: @_rockt</a><br>\n",
    "<img src=\"./figures/oxford.svg\" width=30%><br>\n",
    "2nd Int'l Summer School on Data Science, Split, Croatia<br>\n",
    "27th September 2017<br>\n",
    "</center>"
   ]
  },
  {
   "cell_type": "markdown",
   "metadata": {
    "slideshow": {
     "slide_type": "slide"
    }
   },
   "source": [
    "# Word Representations"
   ]
  },
  {
   "cell_type": "markdown",
   "metadata": {
    "slideshow": {
     "slide_type": "slide"
    }
   },
   "source": [
    "# word2vec / GloVe"
   ]
  },
  {
   "cell_type": "markdown",
   "metadata": {
    "slideshow": {
     "slide_type": "slide"
    }
   },
   "source": [
    "# Further Reading\n",
    "- [Bengio et al. A Neural Probabilistic Language Model. 2003.](http://papers.nips.cc/paper/1839-a-neural-probabilistic-language-model.pdf)\n",
    "- [Nickel and Kiela. Poincaré Embeddings for Learning Hierarchical Representations. 2017.](https://arxiv.org/abs/1705.08039)\n",
    "- ...\n",
    "- [Cho. Natural Language Understanding with Distributed Representation. 2015.](https://arxiv.org/abs/1511.07916)\n",
    "- [Deep Learning for NLP Best Practices](http://ruder.io/deep-learning-nlp-best-practices/)\n",
    "- [Deep Learning for NLP resources](https://github.com/andrewt3000/DL4NLP)\n",
    "- [Goldberg. A Primer on Neural Network Models for Natural Language Processing. 2016.](https://www.jair.org/media/4992/live-4992-9623-jair.pdf)\n",
    "- [Goodfellow et al. Deep Learning. 2017.](http://www.deeplearningbook.org/)\n",
    "- [Grefenstette et al. New Directions in Vector Space Models of Meaning. 2014.](https://www.cs.ox.ac.uk/files/6605/aclVectorTutorial.pdf)\n",
    "- [Grefenstette. Beyond Sequence to Sequence with Augmented RNNs. 2016](https://drive.google.com/file/d/0B_wzP_JlVFcKYTFaTVFJN18tbmtkX2V0WEEtWXVSdDV4UHVZ/view)\n",
    "- [Oxford Deep NLP 2017 course](https://github.com/oxford-cs-deepnlp-2017/lectures)\n",
    "- [Stanford Deep Learning for Natural Language Processing course](http://cs224d.stanford.edu/syllabus.html)"
   ]
  }
 ],
 "metadata": {
  "celltoolbar": "Slideshow",
  "kernelspec": {
   "display_name": "Python 3",
   "language": "python",
   "name": "python3"
  },
  "language_info": {
   "codemirror_mode": {
    "name": "ipython",
    "version": 3
   },
   "file_extension": ".py",
   "mimetype": "text/x-python",
   "name": "python",
   "nbconvert_exporter": "python",
   "pygments_lexer": "ipython3",
   "version": "3.6.1"
  },
  "livereveal": {
   "controls": "false",
   "progress": "true",
   "theme": "white",
   "transition": "none"
  }
 },
 "nbformat": 4,
 "nbformat_minor": 2
}
